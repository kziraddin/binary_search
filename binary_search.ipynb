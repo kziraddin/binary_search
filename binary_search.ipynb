{
 "cells": [
  {
   "cell_type": "code",
   "execution_count": 2,
   "id": "55e2f5a6",
   "metadata": {},
   "outputs": [
    {
     "name": "stdout",
     "output_type": "stream",
     "text": [
      "target found at index: 7\n"
     ]
    }
   ],
   "source": [
    "def binary_search(list, target):\n",
    "    first = 0\n",
    "    last = len(list) - 1\n",
    "    \n",
    "    while(first <= last):\n",
    "        \n",
    "        midpoint = (first + last)//2\n",
    "        \n",
    "        if list[midpoint] == target:\n",
    "            return midpoint\n",
    "        elif list[midpoint] < target:\n",
    "            first = midpoint + 1\n",
    "        else:\n",
    "            first = midpoint - 1\n",
    "    return None\n",
    "\n",
    "\n",
    "\n",
    "#verifying the algorithm\n",
    "def verify(index):\n",
    "    if index is not None:\n",
    "        print(\"target found at index:\", index)\n",
    "    else:\n",
    "        print(\"Target is not in list\")\n",
    "        \n",
    "\n",
    "#list\n",
    "numbers = [1, 2, 3, 4, 5 , 6, 7, 8, 9, 10]\n",
    "\n",
    "result = binary_search(numbers, 8)\n",
    "verify(result)"
   ]
  },
  {
   "cell_type": "code",
   "execution_count": null,
   "id": "f010e43c",
   "metadata": {},
   "outputs": [],
   "source": []
  }
 ],
 "metadata": {
  "kernelspec": {
   "display_name": "Python 3 (ipykernel)",
   "language": "python",
   "name": "python3"
  },
  "language_info": {
   "codemirror_mode": {
    "name": "ipython",
    "version": 3
   },
   "file_extension": ".py",
   "mimetype": "text/x-python",
   "name": "python",
   "nbconvert_exporter": "python",
   "pygments_lexer": "ipython3",
   "version": "3.9.12"
  }
 },
 "nbformat": 4,
 "nbformat_minor": 5
}
